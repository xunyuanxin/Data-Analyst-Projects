{
 "cells": [
  {
   "cell_type": "markdown",
   "metadata": {
    "tags": []
   },
   "source": [
    "# Project: Investigate a Dataset - [No_show_appointments]\n",
    "\n",
    "## Table of Contents\n",
    "<ul>\n",
    "<li><a href=\"#intro\">Introduction</a></li>\n",
    "<li><a href=\"#wrangling\">Data Wrangling</a></li>\n",
    "<li><a href=\"#eda\">Exploratory Data Analysis</a></li>\n",
    "<li><a href=\"#conclusions\">Conclusions</a></li>\n",
    "</ul>"
   ]
  },
  {
   "cell_type": "markdown",
   "metadata": {},
   "source": [
    "<a id='intro'></a>\n",
    "## Introduction\n",
    "\n",
    "### Dataset Description \n",
    "<br>This [dataset](https://www.kaggle.com/datasets/joniarroba/noshowappointments) collects information from 100K medical appointments in Brazil and is focused on the question of whether or not patients show up for their appointment. \n",
    "- `PatientId`: **Identification** of a patient.\n",
    "- `AppointmentId`: **Identification** of each appointment.\n",
    "- `Gender`: **Male or Female**. Female is the greater proportion, woman takes way more care of their health in comparison to man.\n",
    "- `ScheduledDay`: **Date**. What day the patient set up their appointment.\n",
    "- `AppointmentDay`: **Date**. What day the patient is coming to the hospital.\n",
    "- `Age`: **Numeric**. How old is the patient.\n",
    "- `Neighbourhood`: **String**. Location of the hospital.\n",
    "- `Scholarship`: **True or False**. Whether or not the patient is enrolled in Brasilian welfare program [Bolsa Família](https://en.wikipedia.org/wiki/Bolsa_Família).\n",
    "- `Hipertension`: **True or False**.\n",
    "- `Diabetes`: **True or False**.\n",
    "- `Alcoholism`: **True or False**.\n",
    "- `Handcap`: **True or False**.\n",
    "- `SMS_received`: **True or False**.\n",
    "- `No-show`: **True or False**. 'No' if the patient showed up to their appointment, and 'Yes' if they did not show up.\n",
    "\n",
    "### Question(s) for Analysis: What factors are important for us to know in order to predict if a patient will not show up for their scheduled appointment?"
   ]
  },
  {
   "cell_type": "code",
   "execution_count": 1,
   "metadata": {
    "tags": []
   },
   "outputs": [],
   "source": [
    "# Use this cell to set up import statements for all of the packages that you plan to use.\n",
    "\n",
    "import pandas as pd\n",
    "import numpy as np\n",
    "from datetime import date, timedelta\n",
    "import scipy.stats.distributions as dist\n",
    "import matplotlib.pyplot as plt\n",
    "\n",
    "# downgrade jinja2 to avoid export error\n",
    "# pip install -I jinja2==3.0.3\n",
    "\n",
    "# While optional for current notebooks, if you are having trouble with visualizations,\n",
    "#   remember to include a 'magic word' so that your visualizations are plotted\n",
    "#   inline with the notebook. See this page for more:\n",
    "#   http://ipython.readthedocs.io/en/stable/interactive/magics.html"
   ]
  },
  {
   "cell_type": "markdown",
   "metadata": {},
   "source": [
    "<a id='wrangling'></a>\n",
    "## Data Wrangling\n",
    "### General Properties"
   ]
  },
  {
   "cell_type": "code",
   "execution_count": 2,
   "metadata": {
    "tags": []
   },
   "outputs": [
    {
     "data": {
      "text/plain": [
       "(110527, 14)"
      ]
     },
     "execution_count": 2,
     "metadata": {},
     "output_type": "execute_result"
    }
   ],
   "source": [
    "# Load your data and print out a few lines. What is the size of your dataframe? \n",
    "df = pd.read_csv(\"./Database_No_show_appointments/noshowappointments-kagglev2-may-2016.csv\")\n",
    "df.shape"
   ]
  },
  {
   "cell_type": "code",
   "execution_count": 3,
   "metadata": {},
   "outputs": [
    {
     "name": "stdout",
     "output_type": "stream",
     "text": [
      "<class 'pandas.core.frame.DataFrame'>\n",
      "RangeIndex: 110527 entries, 0 to 110526\n",
      "Data columns (total 14 columns):\n",
      " #   Column          Non-Null Count   Dtype  \n",
      "---  ------          --------------   -----  \n",
      " 0   PatientId       110527 non-null  float64\n",
      " 1   AppointmentID   110527 non-null  int64  \n",
      " 2   Gender          110527 non-null  object \n",
      " 3   ScheduledDay    110527 non-null  object \n",
      " 4   AppointmentDay  110527 non-null  object \n",
      " 5   Age             110527 non-null  int64  \n",
      " 6   Neighbourhood   110527 non-null  object \n",
      " 7   Scholarship     110527 non-null  int64  \n",
      " 8   Hipertension    110527 non-null  int64  \n",
      " 9   Diabetes        110527 non-null  int64  \n",
      " 10  Alcoholism      110527 non-null  int64  \n",
      " 11  Handcap         110527 non-null  int64  \n",
      " 12  SMS_received    110527 non-null  int64  \n",
      " 13  No-show         110527 non-null  object \n",
      "dtypes: float64(1), int64(8), object(5)\n",
      "memory usage: 11.8+ MB\n"
     ]
    }
   ],
   "source": [
    "#   Perform operations to inspect data types and look for instances of missing\n",
    "#   or possibly errant data. There are at least 4 - 6 methods you can call on your\n",
    "#   dataframe to obtain this information.\n",
    "df.info()"
   ]
  },
  {
   "cell_type": "markdown",
   "metadata": {},
   "source": [
    "### Data Cleaning\n",
    "We don't have missing data in this dataset, but several datatypes are incorrect. So our first cleaning decision is\n",
    "\n",
    "**1. Change Data Types**\n",
    "<br>Based on the datatypes we found above, change them as follows:\n",
    "<br>`float64` -> `int64`: \"PatientId\"\n",
    "<br>`string` -> `datetime`: \"ScheduledDay\", \"AppointmentDay\"\n",
    "<br>`int64` -> `int16`: \"Age\"\n",
    "<br>`string` -> `category`: \"Gender\", \"Scholarship\", \"Hipertension\", \"Diabetes\", \"Alcoholism\", \"Handcap\", \"SMS_received\", \"No-show\"\n",
    "\n",
    "Then check the only numerical variable `Age` to see whether outliers exist."
   ]
  },
  {
   "cell_type": "code",
   "execution_count": 4,
   "metadata": {},
   "outputs": [],
   "source": [
    "# make a copy of the dataframe to save the original data\n",
    "df_clean = df.copy()"
   ]
  },
  {
   "cell_type": "code",
   "execution_count": 5,
   "metadata": {},
   "outputs": [
    {
     "data": {
      "text/plain": [
       "count    110527.000000\n",
       "mean         37.088874\n",
       "std          23.110205\n",
       "min          -1.000000\n",
       "25%          18.000000\n",
       "50%          37.000000\n",
       "75%          55.000000\n",
       "max         115.000000\n",
       "Name: Age, dtype: float64"
      ]
     },
     "execution_count": 5,
     "metadata": {},
     "output_type": "execute_result"
    }
   ],
   "source": [
    "# statistics for column `Age`\n",
    "df_clean.Age.describe()"
   ]
  },
  {
   "cell_type": "markdown",
   "metadata": {},
   "source": [
    "**2. Invalid `Age` Value and Outlier**\n",
    "<br>When we access the age column, we found some invalid value (that is less than 0)."
   ]
  },
  {
   "cell_type": "code",
   "execution_count": 6,
   "metadata": {},
   "outputs": [
    {
     "data": {
      "text/html": [
       "<div>\n",
       "<style scoped>\n",
       "    .dataframe tbody tr th:only-of-type {\n",
       "        vertical-align: middle;\n",
       "    }\n",
       "\n",
       "    .dataframe tbody tr th {\n",
       "        vertical-align: top;\n",
       "    }\n",
       "\n",
       "    .dataframe thead th {\n",
       "        text-align: right;\n",
       "    }\n",
       "</style>\n",
       "<table border=\"1\" class=\"dataframe\">\n",
       "  <thead>\n",
       "    <tr style=\"text-align: right;\">\n",
       "      <th></th>\n",
       "      <th>PatientId</th>\n",
       "      <th>AppointmentID</th>\n",
       "      <th>Gender</th>\n",
       "      <th>ScheduledDay</th>\n",
       "      <th>AppointmentDay</th>\n",
       "      <th>Age</th>\n",
       "      <th>Neighbourhood</th>\n",
       "      <th>Scholarship</th>\n",
       "      <th>Hipertension</th>\n",
       "      <th>Diabetes</th>\n",
       "      <th>Alcoholism</th>\n",
       "      <th>Handcap</th>\n",
       "      <th>SMS_received</th>\n",
       "      <th>No-show</th>\n",
       "    </tr>\n",
       "  </thead>\n",
       "  <tbody>\n",
       "    <tr>\n",
       "      <th>99832</th>\n",
       "      <td>4.659432e+14</td>\n",
       "      <td>5775010</td>\n",
       "      <td>F</td>\n",
       "      <td>2016-06-06T08:58:13Z</td>\n",
       "      <td>2016-06-06T00:00:00Z</td>\n",
       "      <td>-1</td>\n",
       "      <td>ROMÃO</td>\n",
       "      <td>0</td>\n",
       "      <td>0</td>\n",
       "      <td>0</td>\n",
       "      <td>0</td>\n",
       "      <td>0</td>\n",
       "      <td>0</td>\n",
       "      <td>No</td>\n",
       "    </tr>\n",
       "  </tbody>\n",
       "</table>\n",
       "</div>"
      ],
      "text/plain": [
       "          PatientId  AppointmentID Gender          ScheduledDay  \\\n",
       "99832  4.659432e+14        5775010      F  2016-06-06T08:58:13Z   \n",
       "\n",
       "             AppointmentDay  Age Neighbourhood  Scholarship  Hipertension  \\\n",
       "99832  2016-06-06T00:00:00Z   -1         ROMÃO            0             0   \n",
       "\n",
       "       Diabetes  Alcoholism  Handcap  SMS_received No-show  \n",
       "99832         0           0        0             0      No  "
      ]
     },
     "execution_count": 6,
     "metadata": {},
     "output_type": "execute_result"
    }
   ],
   "source": [
    "# find invalid age that is negative\n",
    "df_clean[df_clean[\"Age\"] < 0]"
   ]
  },
  {
   "cell_type": "code",
   "execution_count": 7,
   "metadata": {},
   "outputs": [
    {
     "data": {
      "text/plain": [
       "<AxesSubplot:>"
      ]
     },
     "execution_count": 7,
     "metadata": {},
     "output_type": "execute_result"
    },
    {
     "data": {
      "image/png": "[encoded data removed]",
      "text/plain": [
       "<Figure size 640x480 with 1 Axes>"
      ]
     },
     "metadata": {},
     "output_type": "display_data"
    }
   ],
   "source": [
    "# find age outliers\n",
    "df_clean.Age.plot(kind = \"box\")"
   ]
  },
  {
   "cell_type": "markdown",
   "metadata": {},
   "source": [
    "Fortunately we only have one negative age and one large outlier, so we'll delete these two records."
   ]
  },
  {
   "cell_type": "code",
   "execution_count": 8,
   "metadata": {
    "tags": []
   },
   "outputs": [],
   "source": [
    "# After discussing the structure of the data and any problems that need to be\n",
    "#   cleaned, perform those cleaning steps in the second part of this section."
   ]
  },
  {
   "cell_type": "code",
   "execution_count": 9,
   "metadata": {},
   "outputs": [
    {
     "name": "stdout",
     "output_type": "stream",
     "text": [
      "<class 'pandas.core.frame.DataFrame'>\n",
      "RangeIndex: 110527 entries, 0 to 110526\n",
      "Data columns (total 14 columns):\n",
      " #   Column          Non-Null Count   Dtype              \n",
      "---  ------          --------------   -----              \n",
      " 0   PatientId       110527 non-null  int64              \n",
      " 1   AppointmentID   110527 non-null  int64              \n",
      " 2   Gender          110527 non-null  category           \n",
      " 3   ScheduledDay    110527 non-null  datetime64[ns, UTC]\n",
      " 4   AppointmentDay  110527 non-null  datetime64[ns, UTC]\n",
      " 5   Age             110527 non-null  int16              \n",
      " 6   Neighbourhood   110527 non-null  object             \n",
      " 7   Scholarship     110527 non-null  category           \n",
      " 8   Hipertension    110527 non-null  category           \n",
      " 9   Diabetes        110527 non-null  category           \n",
      " 10  Alcoholism      110527 non-null  category           \n",
      " 11  Handcap         110527 non-null  category           \n",
      " 12  SMS_received    110527 non-null  category           \n",
      " 13  No-show         110527 non-null  category           \n",
      "dtypes: category(8), datetime64[ns, UTC](2), int16(1), int64(2), object(1)\n",
      "memory usage: 5.3+ MB\n"
     ]
    }
   ],
   "source": [
    "# change data types\n",
    "df_clean[\"PatientId\"] = df_clean[\"PatientId\"].astype(\"int64\")\n",
    "df_clean[\"ScheduledDay\"] = pd.to_datetime(df_clean[\"ScheduledDay\"])\n",
    "df_clean[\"AppointmentDay\"] = pd.to_datetime(df_clean[\"AppointmentDay\"])\n",
    "df_clean[\"Age\"] = df_clean[\"Age\"].astype(\"int16\")\n",
    "\n",
    "columns = [\"Gender\", \"Scholarship\", \"Hipertension\", \"Diabetes\", \"Alcoholism\", \"Handcap\", \"SMS_received\", \"No-show\"]\n",
    "for col in columns:\n",
    "    df_clean[col] = df_clean[col].astype(\"category\")\n",
    "    \n",
    "# check the updated data types\n",
    "df_clean.info()"
   ]
  },
  {
   "cell_type": "code",
   "execution_count": 10,
   "metadata": {},
   "outputs": [
    {
     "data": {
      "text/plain": [
       "(110521, 14)"
      ]
     },
     "execution_count": 10,
     "metadata": {},
     "output_type": "execute_result"
    }
   ],
   "source": [
    "# delete the record with invalid age\n",
    "age_q3 = df_clean[\"Age\"].quantile(0.75)\n",
    "age_q1 = df_clean[\"Age\"].quantile(0.25)\n",
    "IQR = age_q3 - age_q1\n",
    "age_max = age_q3 + 1.5*IQR\n",
    "outlier = df_clean[(df_clean[\"Age\"] > age_max) | (df_clean[\"Age\"] < 0)].index\n",
    "outlier\n",
    "df_clean = df_clean.drop(outlier).reset_index().drop(\"index\", axis = 1)\n",
    "df_clean.shape"
   ]
  },
  {
   "cell_type": "markdown",
   "metadata": {},
   "source": [
    "**3. Create `DaystoAppointment` for Further Exploration**\n",
    "<br>We calculate the days between Appointment Day and Scheduled Day, to further explore whether this factor is important to predict the probability of showing up."
   ]
  },
  {
   "cell_type": "code",
   "execution_count": 11,
   "metadata": {},
   "outputs": [
    {
     "data": {
      "text/html": [
       "<div>\n",
       "<style scoped>\n",
       "    .dataframe tbody tr th:only-of-type {\n",
       "        vertical-align: middle;\n",
       "    }\n",
       "\n",
       "    .dataframe tbody tr th {\n",
       "        vertical-align: top;\n",
       "    }\n",
       "\n",
       "    .dataframe thead th {\n",
       "        text-align: right;\n",
       "    }\n",
       "</style>\n",
       "<table border=\"1\" class=\"dataframe\">\n",
       "  <thead>\n",
       "    <tr style=\"text-align: right;\">\n",
       "      <th></th>\n",
       "      <th>PatientId</th>\n",
       "      <th>AppointmentID</th>\n",
       "      <th>DaystoAppointment</th>\n",
       "    </tr>\n",
       "  </thead>\n",
       "  <tbody>\n",
       "    <tr>\n",
       "      <th>0</th>\n",
       "      <td>29872499824296</td>\n",
       "      <td>5642903</td>\n",
       "      <td>-1 days +05:21:52</td>\n",
       "    </tr>\n",
       "    <tr>\n",
       "      <th>1</th>\n",
       "      <td>558997776694438</td>\n",
       "      <td>5642503</td>\n",
       "      <td>-1 days +07:51:33</td>\n",
       "    </tr>\n",
       "    <tr>\n",
       "      <th>2</th>\n",
       "      <td>4262962299951</td>\n",
       "      <td>5642549</td>\n",
       "      <td>-1 days +07:40:56</td>\n",
       "    </tr>\n",
       "    <tr>\n",
       "      <th>3</th>\n",
       "      <td>867951213174</td>\n",
       "      <td>5642828</td>\n",
       "      <td>-1 days +06:30:29</td>\n",
       "    </tr>\n",
       "    <tr>\n",
       "      <th>4</th>\n",
       "      <td>8841186448183</td>\n",
       "      <td>5642494</td>\n",
       "      <td>-1 days +07:52:37</td>\n",
       "    </tr>\n",
       "  </tbody>\n",
       "</table>\n",
       "</div>"
      ],
      "text/plain": [
       "         PatientId  AppointmentID DaystoAppointment\n",
       "0   29872499824296        5642903 -1 days +05:21:52\n",
       "1  558997776694438        5642503 -1 days +07:51:33\n",
       "2    4262962299951        5642549 -1 days +07:40:56\n",
       "3     867951213174        5642828 -1 days +06:30:29\n",
       "4    8841186448183        5642494 -1 days +07:52:37"
      ]
     },
     "execution_count": 11,
     "metadata": {},
     "output_type": "execute_result"
    }
   ],
   "source": [
    "# create `DastoAppointment` column and see sample values\n",
    "df_clean[\"DaystoAppointment\"] = df_clean[\"AppointmentDay\"] - df_clean[\"ScheduledDay\"]\n",
    "df_clean[[\"PatientId\", \"AppointmentID\", \"DaystoAppointment\"]].head()"
   ]
  },
  {
   "cell_type": "markdown",
   "metadata": {},
   "source": [
    "However, the difference is not in a good numerical format. We transform it to the unit of one day."
   ]
  },
  {
   "cell_type": "code",
   "execution_count": 12,
   "metadata": {},
   "outputs": [
    {
     "data": {
      "text/html": [
       "<div>\n",
       "<style scoped>\n",
       "    .dataframe tbody tr th:only-of-type {\n",
       "        vertical-align: middle;\n",
       "    }\n",
       "\n",
       "    .dataframe tbody tr th {\n",
       "        vertical-align: top;\n",
       "    }\n",
       "\n",
       "    .dataframe thead th {\n",
       "        text-align: right;\n",
       "    }\n",
       "</style>\n",
       "<table border=\"1\" class=\"dataframe\">\n",
       "  <thead>\n",
       "    <tr style=\"text-align: right;\">\n",
       "      <th></th>\n",
       "      <th>PatientId</th>\n",
       "      <th>AppointmentID</th>\n",
       "      <th>DaystoAppointment</th>\n",
       "    </tr>\n",
       "  </thead>\n",
       "  <tbody>\n",
       "    <tr>\n",
       "      <th>0</th>\n",
       "      <td>29872499824296</td>\n",
       "      <td>5642903</td>\n",
       "      <td>-0.776481</td>\n",
       "    </tr>\n",
       "    <tr>\n",
       "      <th>1</th>\n",
       "      <td>558997776694438</td>\n",
       "      <td>5642503</td>\n",
       "      <td>-0.672535</td>\n",
       "    </tr>\n",
       "    <tr>\n",
       "      <th>2</th>\n",
       "      <td>4262962299951</td>\n",
       "      <td>5642549</td>\n",
       "      <td>-0.679907</td>\n",
       "    </tr>\n",
       "    <tr>\n",
       "      <th>3</th>\n",
       "      <td>867951213174</td>\n",
       "      <td>5642828</td>\n",
       "      <td>-0.728831</td>\n",
       "    </tr>\n",
       "    <tr>\n",
       "      <th>4</th>\n",
       "      <td>8841186448183</td>\n",
       "      <td>5642494</td>\n",
       "      <td>-0.671794</td>\n",
       "    </tr>\n",
       "  </tbody>\n",
       "</table>\n",
       "</div>"
      ],
      "text/plain": [
       "         PatientId  AppointmentID  DaystoAppointment\n",
       "0   29872499824296        5642903          -0.776481\n",
       "1  558997776694438        5642503          -0.672535\n",
       "2    4262962299951        5642549          -0.679907\n",
       "3     867951213174        5642828          -0.728831\n",
       "4    8841186448183        5642494          -0.671794"
      ]
     },
     "execution_count": 12,
     "metadata": {},
     "output_type": "execute_result"
    }
   ],
   "source": [
    "# transform to numeric values (unit of one day)\n",
    "df_clean[\"DaystoAppointment\"] = df_clean[\"DaystoAppointment\"]/np.timedelta64(1, 'D')\n",
    "df_clean[[\"PatientId\", \"AppointmentID\", \"DaystoAppointment\"]].head()"
   ]
  },
  {
   "cell_type": "markdown",
   "metadata": {},
   "source": [
    "Additionally, if patients scheduled the appointment at the same day, we get negative difference by the equation above. So change all `DaystoAppointment` to zero if it is the same day scheduled appointment."
   ]
  },
  {
   "cell_type": "code",
   "execution_count": 13,
   "metadata": {},
   "outputs": [
    {
     "data": {
      "text/html": [
       "<div>\n",
       "<style scoped>\n",
       "    .dataframe tbody tr th:only-of-type {\n",
       "        vertical-align: middle;\n",
       "    }\n",
       "\n",
       "    .dataframe tbody tr th {\n",
       "        vertical-align: top;\n",
       "    }\n",
       "\n",
       "    .dataframe thead th {\n",
       "        text-align: right;\n",
       "    }\n",
       "</style>\n",
       "<table border=\"1\" class=\"dataframe\">\n",
       "  <thead>\n",
       "    <tr style=\"text-align: right;\">\n",
       "      <th></th>\n",
       "      <th>PatientId</th>\n",
       "      <th>AppointmentID</th>\n",
       "      <th>DaystoAppointment</th>\n",
       "    </tr>\n",
       "  </thead>\n",
       "  <tbody>\n",
       "    <tr>\n",
       "      <th>0</th>\n",
       "      <td>29872499824296</td>\n",
       "      <td>5642903</td>\n",
       "      <td>0.0</td>\n",
       "    </tr>\n",
       "    <tr>\n",
       "      <th>1</th>\n",
       "      <td>558997776694438</td>\n",
       "      <td>5642503</td>\n",
       "      <td>0.0</td>\n",
       "    </tr>\n",
       "    <tr>\n",
       "      <th>2</th>\n",
       "      <td>4262962299951</td>\n",
       "      <td>5642549</td>\n",
       "      <td>0.0</td>\n",
       "    </tr>\n",
       "    <tr>\n",
       "      <th>3</th>\n",
       "      <td>867951213174</td>\n",
       "      <td>5642828</td>\n",
       "      <td>0.0</td>\n",
       "    </tr>\n",
       "    <tr>\n",
       "      <th>4</th>\n",
       "      <td>8841186448183</td>\n",
       "      <td>5642494</td>\n",
       "      <td>0.0</td>\n",
       "    </tr>\n",
       "  </tbody>\n",
       "</table>\n",
       "</div>"
      ],
      "text/plain": [
       "         PatientId  AppointmentID  DaystoAppointment\n",
       "0   29872499824296        5642903                0.0\n",
       "1  558997776694438        5642503                0.0\n",
       "2    4262962299951        5642549                0.0\n",
       "3     867951213174        5642828                0.0\n",
       "4    8841186448183        5642494                0.0"
      ]
     },
     "execution_count": 13,
     "metadata": {},
     "output_type": "execute_result"
    }
   ],
   "source": [
    "# negative `DaystoAppointment` was the same-day appointment\n",
    "df_clean.loc[df_clean[\"DaystoAppointment\"] < 0, \"DaystoAppointment\"] = 0\n",
    "df_clean[[\"PatientId\", \"AppointmentID\", \"DaystoAppointment\"]].head()"
   ]
  },
  {
   "cell_type": "markdown",
   "metadata": {},
   "source": [
    "<a id='eda'></a>\n",
    "## Exploratory Data Analysis\n",
    "During this analysis, we will focus on the following dependent variable:\n",
    "- `No-show`\n",
    "\n",
    "For independent variables, we have two identification columns:\n",
    "- `PatientId`\n",
    "- `AppointmentID`\n",
    "\n",
    "eight **categorical** columns (most of them are dummy values):\n",
    "1. `Gender` - F, M\n",
    "2. `Neignbourhood` - Locations\n",
    "3. `Scholarship` - 1, 0\n",
    "4. `Hipertension` - 1, 0\n",
    "5. `Diabetes` - 1, 0\n",
    "6. `Alcoholism` - 1, 0\n",
    "7. `Handcap` - 0, 1, 2, 3, 4\n",
    "8. `SMS_received` - 1, 0\n",
    "\n",
    "one **numerical** columns:\n",
    "- `Age`\n",
    "\n",
    "and two **date** columns:\n",
    "- `ScheduledDay`\n",
    "- `AppointmentDay`\n",
    "\n",
    "We have six dummy independent variables, and one categorical independent varible that only have five levels. To avoid duplicated code, we write functions below that can be applied repeatly for exploring how they correlates with `No-show` column."
   ]
  },
  {
   "cell_type": "code",
   "execution_count": 14,
   "metadata": {},
   "outputs": [],
   "source": [
    "# define a function \n",
    "# create a dictionary for categorical variables of their levels and probability of patients not showing up\n",
    "def cat_NoShowProb(col):\n",
    "    \"\"\"\n",
    "    INPUT\n",
    "        col - (str) the column name of a categorical variable\n",
    "    OUTPUT\n",
    "        prob_dict - (dict) levels of `col` and corresponding probability of patients not showing up to appointment\n",
    "    \"\"\"\n",
    "    prob_dict = {\"level\": [],\n",
    "                 \"prob\": []}\n",
    "    for level in df_clean[col].unique():\n",
    "        df_level = df_clean[df_clean[col] == level]\n",
    "        noshow_level = df_level[df_level[\"No-show\"] == \"Yes\"]\n",
    "        prob_noshow_level = len(noshow_level)/len(df_level)\n",
    "        prob_dict[\"level\"].append(level)\n",
    "        prob_dict[\"prob\"].append(prob_noshow_level)\n",
    "    return prob_dict"
   ]
  },
  {
   "cell_type": "code",
   "execution_count": 15,
   "metadata": {},
   "outputs": [],
   "source": [
    "# define a function\n",
    "# plot a bar chart for categorical variables of their levels and probability of patients not showing up\n",
    "def plot_NoShowProb(prob_dict):\n",
    "    \"\"\"\n",
    "    INPUT\n",
    "        prob_dict - (dict) categorical levels and corresponding probability of patients not showing up\n",
    "    OUTPUT\n",
    "        Displays a bar plot of the input dictionary\n",
    "    \"\"\"\n",
    "    pd.DataFrame(prob_dict).plot(kind = \"bar\",\n",
    "                                 x = \"level\",\n",
    "                                 title = \"Proportion of Not Showing Up\",\n",
    "                                 legend = False,\n",
    "                                 xlabel = \"level\",\n",
    "                                 ylabel = \"Probability\",\n",
    "                                 rot = 0);"
   ]
  },
  {
   "cell_type": "code",
   "execution_count": 16,
   "metadata": {},
   "outputs": [],
   "source": [
    "# define a function\n",
    "# compute p-value that compares proportions of patients not showing up from two categorical variables\n",
    "def twoTTest(col, t, f):\n",
    "    \"\"\"\n",
    "    INPUT\n",
    "        col - (str) column name of a categorical variable\n",
    "        t - (str/int) level 1\n",
    "        f - (str/int) level 2\n",
    "    OUTPUT\n",
    "        Print two group proportion t test result\n",
    "    \"\"\"\n",
    "    col_dict = cat_NoShowProb(col)\n",
    "    prob_0 = col_dict['prob'][0]\n",
    "    prob_1 = col_dict['prob'][1]\n",
    "    n_1 = df_clean[df_clean[col] == t].shape[0]\n",
    "    n_0 = df_clean[df_clean[col] == f].shape[0]\n",
    "    col_dict = cat_NoShowProb(col)\n",
    "    assert n_1*col_dict['prob'][0] > 30, \"Assumptions not met\"\n",
    "    assert n_1*col_dict['prob'][1] > 30, \"Assumptions not met\"\n",
    "    assert n_0*col_dict['prob'][0] > 30, \"Assumptions not met\"\n",
    "    assert n_0*col_dict['prob'][1] > 30, \"Assumptions not met\"\n",
    "    variance = prob_1*(1-prob_1)\n",
    "    prop = df_clean.groupby(col)[\"No-show\"].agg([lambda x: np.mean(x == \"Yes\"), \"size\"])\n",
    "    prop.columns = [\"proportions\", \"total_counts\"]\n",
    "    standard_error = np.sqrt(variance*(1/prop.total_counts[0] + 1/prop.total_counts[1]))\n",
    "    print(\"Sample Standard Error:\", standard_error)\n",
    "    best_estimate = (prop.proportions[0] - prop.proportions[1])\n",
    "    print(\"The best estimate is:\", best_estimate)\n",
    "    hypothesized_estimate = 0\n",
    "    test_stat = (best_estimate - hypothesized_estimate)/standard_error\n",
    "    print(\"Computed Test Statistics is\", test_stat)\n",
    "    pvalue = 2*dist.norm.cdf(-np.abs(test_stat))\n",
    "    print(\"Computed P-value is\", pvalue)"
   ]
  },
  {
   "cell_type": "markdown",
   "metadata": {},
   "source": [
    "### Does the Gender affect whether the patients will show up to their appointments?"
   ]
  },
  {
   "cell_type": "code",
   "execution_count": 17,
   "metadata": {
    "tags": []
   },
   "outputs": [
    {
     "data": {
      "text/plain": [
       "F    71834\n",
       "M    38687\n",
       "Name: Gender, dtype: int64"
      ]
     },
     "execution_count": 17,
     "metadata": {},
     "output_type": "execute_result"
    }
   ],
   "source": [
    "df_clean.Gender.value_counts()"
   ]
  },
  {
   "cell_type": "code",
   "execution_count": 18,
   "metadata": {},
   "outputs": [
    {
     "data": {
      "text/plain": [
       "{'level': ['F', 'M'], 'prob': [0.2031210847231116, 0.19967947889471915]}"
      ]
     },
     "execution_count": 18,
     "metadata": {},
     "output_type": "execute_result"
    }
   ],
   "source": [
    "cat_NoShowProb(\"Gender\")"
   ]
  },
  {
   "cell_type": "code",
   "execution_count": 19,
   "metadata": {},
   "outputs": [
    {
     "data": {
      "image/png": "[encoded data removed]",
      "text/plain": [
       "<Figure size 640x480 with 1 Axes>"
      ]
     },
     "metadata": {},
     "output_type": "display_data"
    }
   ],
   "source": [
    "plot_NoShowProb(cat_NoShowProb(\"Gender\"))"
   ]
  },
  {
   "cell_type": "code",
   "execution_count": 20,
   "metadata": {},
   "outputs": [
    {
     "name": "stdout",
     "output_type": "stream",
     "text": [
      "Sample Standard Error: 0.0025210040577762346\n",
      "The best estimate is: 0.003441605828392452\n",
      "Computed Test Statistics is 1.365172665143695\n",
      "Computed P-value is 0.1721987875706933\n"
     ]
    }
   ],
   "source": [
    "twoTTest(\"Gender\", \"F\", \"M\")"
   ]
  },
  {
   "cell_type": "markdown",
   "metadata": {},
   "source": [
    "It looks like gender is not related to whether patients will show up to their appointments. Our t test result supports this conclusion.\n",
    "### How many days scheduled before appointment day is more likely to result in a not showing up? "
   ]
  },
  {
   "cell_type": "code",
   "execution_count": 21,
   "metadata": {
    "tags": []
   },
   "outputs": [
    {
     "data": {
      "text/plain": [
       "count    110521.000000\n",
       "mean          9.869859\n",
       "std          15.141423\n",
       "min           0.000000\n",
       "25%           0.000000\n",
       "50%           3.474167\n",
       "75%          14.320463\n",
       "max         178.554873\n",
       "Name: DaystoAppointment, dtype: float64"
      ]
     },
     "execution_count": 21,
     "metadata": {},
     "output_type": "execute_result"
    }
   ],
   "source": [
    "df_clean[\"DaystoAppointment\"].describe()"
   ]
  },
  {
   "cell_type": "code",
   "execution_count": 22,
   "metadata": {},
   "outputs": [
    {
     "data": {
      "image/png": "[encoded data removed]",
      "text/plain": [
       "<Figure size 640x480 with 1 Axes>"
      ]
     },
     "metadata": {},
     "output_type": "display_data"
    }
   ],
   "source": [
    "# organize `DaystoAppointment` to 20-day bins\n",
    "days = np.arange(0, 181, 20)\n",
    "prob_dict = {\"Days\": [],\n",
    "             \"Prob\": []}\n",
    "for i in range(len(days)):\n",
    "    if i == 0:\n",
    "        df_i = df_clean[df_clean[\"DaystoAppointment\"] == 0]\n",
    "        prob_noshow_i = len(df_i[df_i[\"No-show\"] == \"Yes\"])/len(df_i)\n",
    "        if len(df_i) > 0:\n",
    "            prob_noshow_i = len(df_i[df_i[\"No-show\"] == \"Yes\"])/len(df_i)\n",
    "            prob_dict[\"Days\"].append(days[i])\n",
    "            prob_dict[\"Prob\"].append(prob_noshow_i)\n",
    "        else:\n",
    "            prob_dict[\"Days\"].append(days[i])\n",
    "            prob_dict[\"Prob\"].append(0)\n",
    "    else:\n",
    "        df_i = df_clean.loc[(df_clean[\"DaystoAppointment\"] > days[i-1]) & (df_clean[\"DaystoAppointment\"] < days[i]), :]\n",
    "        if len(df_i) > 0:\n",
    "            prob_noshow_i = len(df_i[df_i[\"No-show\"] == \"Yes\"])/len(df_i)\n",
    "            prob_dict[\"Days\"].append(days[i])\n",
    "            prob_dict[\"Prob\"].append(prob_noshow_i)\n",
    "        else:\n",
    "            prob_dict[\"Days\"].append(days[i])\n",
    "            prob_dict[\"Prob\"].append(0)\n",
    "\n",
    "# plot bar charts of days before appointment, and the corresponding probability of not showing up\n",
    "pd.DataFrame(prob_dict).plot(kind = \"bar\",\n",
    "       x = \"Days\",\n",
    "       title = \"Proportion of Not Showing Up\",\n",
    "       legend = False,\n",
    "       xlabel = \"Scheduled Day before Appointment\",\n",
    "       ylabel = \"Probability\",\n",
    "       rot = 90);"
   ]
  },
  {
   "cell_type": "markdown",
   "metadata": {},
   "source": [
    "From the bar chart above, we can see that patients are less likely not to show up to their same day scheduled appointment. Wheras if the appointment was scheduled half year ago, the patients are more likely not to show up.\n",
    "### Does Age affect whether the patients will show up to their appointments?"
   ]
  },
  {
   "cell_type": "code",
   "execution_count": 23,
   "metadata": {},
   "outputs": [
    {
     "data": {
      "text/plain": [
       "count    110521.000000\n",
       "mean         37.085694\n",
       "std          23.104606\n",
       "min           0.000000\n",
       "25%          18.000000\n",
       "50%          37.000000\n",
       "75%          55.000000\n",
       "max         102.000000\n",
       "Name: Age, dtype: float64"
      ]
     },
     "execution_count": 23,
     "metadata": {},
     "output_type": "execute_result"
    }
   ],
   "source": [
    "df_clean.Age.describe()"
   ]
  },
  {
   "cell_type": "code",
   "execution_count": 24,
   "metadata": {
    "tags": []
   },
   "outputs": [
    {
     "data": {
      "image/png": "[encoded data removed]",
      "text/plain": [
       "<Figure size 640x480 with 1 Axes>"
      ]
     },
     "metadata": {},
     "output_type": "display_data"
    }
   ],
   "source": [
    "prob_dict = {\"Age\": [],\n",
    "             \"Prob\": []}\n",
    "for age in sorted(df.Age.unique()):\n",
    "    df_age = df_clean[df_clean[\"Age\"] == age]\n",
    "    noshow_age = df_age[df_age[\"No-show\"] == \"Yes\"]\n",
    "    if len(df_age) > 0:\n",
    "        prob_noshow_age = len(noshow_age)/len(df_age)\n",
    "        prob_dict[\"Age\"].append(age)\n",
    "        prob_dict[\"Prob\"].append(prob_noshow_age)\n",
    "    else:\n",
    "        prob_dict[\"Age\"].append(age)\n",
    "        prob_dict[\"Prob\"].append(0)\n",
    "\n",
    "pd.DataFrame(prob_dict).plot(kind = \"bar\",\n",
    "       x = \"Age\",\n",
    "       title = \"Proportion of Not Showing Up\",\n",
    "       legend = False,\n",
    "       xlabel = \"Age\",\n",
    "       ylabel = \"Probability\",\n",
    "       rot = 0,\n",
    "       xticks = np.arange(0,103, 5));"
   ]
  },
  {
   "cell_type": "markdown",
   "metadata": {},
   "source": [
    "From the bar chart above, we see teenagers, between 10 to 20 years old, and elder patients, who is more than 90 years old, are more likely not to show up to their appointment.\n",
    "### Is the neighbourhood related to not showing up?"
   ]
  },
  {
   "cell_type": "code",
   "execution_count": 25,
   "metadata": {},
   "outputs": [
    {
     "data": {
      "image/png": "[encoded data removed]",
      "text/plain": [
       "<Figure size 640x480 with 1 Axes>"
      ]
     },
     "metadata": {},
     "output_type": "display_data"
    }
   ],
   "source": [
    "plot_NoShowProb(cat_NoShowProb(\"Neighbourhood\"))"
   ]
  },
  {
   "cell_type": "code",
   "execution_count": 26,
   "metadata": {},
   "outputs": [
    {
     "data": {
      "text/plain": [
       "JARDIM CAMBURI                 7717\n",
       "MARIA ORTIZ                    5805\n",
       "RESISTÊNCIA                    4431\n",
       "JARDIM DA PENHA                3877\n",
       "ITARARÉ                        3514\n",
       "                               ... \n",
       "ILHA DO BOI                      35\n",
       "ILHA DO FRADE                    10\n",
       "AEROPORTO                         8\n",
       "ILHAS OCEÂNICAS DE TRINDADE       2\n",
       "PARQUE INDUSTRIAL                 1\n",
       "Name: Neighbourhood, Length: 81, dtype: int64"
      ]
     },
     "execution_count": 26,
     "metadata": {},
     "output_type": "execute_result"
    }
   ],
   "source": [
    "df_clean[\"Neighbourhood\"].value_counts()"
   ]
  },
  {
   "cell_type": "markdown",
   "metadata": {},
   "source": [
    "As we can see from above, we have 81 different categories for `Neighbourhood` column. The bar chart doesn't show too much difference between these neighbourhood regards to whether or not patients will not show up to their appointment. Further information needed.\n",
    "### Is the enrollment in Bolsa Familia related to not showing up?"
   ]
  },
  {
   "cell_type": "code",
   "execution_count": 27,
   "metadata": {
    "tags": []
   },
   "outputs": [
    {
     "data": {
      "image/png": "[encoded data removed]",
      "text/plain": [
       "<Figure size 640x480 with 1 Axes>"
      ]
     },
     "metadata": {},
     "output_type": "display_data"
    }
   ],
   "source": [
    "plot_NoShowProb(cat_NoShowProb(\"Scholarship\"))"
   ]
  },
  {
   "cell_type": "code",
   "execution_count": 28,
   "metadata": {},
   "outputs": [
    {
     "name": "stdout",
     "output_type": "stream",
     "text": [
      "Sample Standard Error: 0.004299248299118855\n",
      "The best estimate is: -0.039309660580066685\n",
      "Computed Test Statistics is -9.143379922514205\n",
      "Computed P-value is 6.053029476320886e-20\n"
     ]
    }
   ],
   "source": [
    "twoTTest(\"Scholarship\", 1, 0)"
   ]
  },
  {
   "cell_type": "markdown",
   "metadata": {},
   "source": [
    "Yes. We can be 99.9% confident that enrollment in Bolsa Familia program is related to patients not showing up to their appointment. The bar chart shows patients with enrollment is more likely not to show up to their appointment."
   ]
  },
  {
   "cell_type": "markdown",
   "metadata": {},
   "source": [
    "### Is Hipertension related to not showing up?"
   ]
  },
  {
   "cell_type": "code",
   "execution_count": 29,
   "metadata": {
    "tags": []
   },
   "outputs": [
    {
     "data": {
      "image/png": "[encoded data removed]",
      "text/plain": [
       "<Figure size 640x480 with 1 Axes>"
      ]
     },
     "metadata": {},
     "output_type": "display_data"
    }
   ],
   "source": [
    "plot_NoShowProb(cat_NoShowProb(\"Hipertension\"))"
   ]
  },
  {
   "cell_type": "code",
   "execution_count": 30,
   "metadata": {},
   "outputs": [
    {
     "name": "stdout",
     "output_type": "stream",
     "text": [
      "Sample Standard Error: 0.0030736444087811426\n",
      "The best estimate is: 0.035987253723635676\n",
      "Computed Test Statistics is 11.708333475669185\n",
      "Computed P-value is 1.1552803362612624e-31\n"
     ]
    }
   ],
   "source": [
    "twoTTest(\"Hipertension\", 1, 0)"
   ]
  },
  {
   "cell_type": "markdown",
   "metadata": {},
   "source": [
    "Yes, we are 99.9% confident that patients with no Hipertension is more likely not to show up to their appointments.\n",
    "### Is Diabetes related to not showing up?"
   ]
  },
  {
   "cell_type": "code",
   "execution_count": 31,
   "metadata": {
    "tags": []
   },
   "outputs": [
    {
     "data": {
      "image/png": "[encoded data removed]",
      "text/plain": [
       "<Figure size 640x480 with 1 Axes>"
      ]
     },
     "metadata": {},
     "output_type": "display_data"
    }
   ],
   "source": [
    "plot_NoShowProb(cat_NoShowProb(\"Diabetes\"))"
   ]
  },
  {
   "cell_type": "code",
   "execution_count": 32,
   "metadata": {},
   "outputs": [
    {
     "name": "stdout",
     "output_type": "stream",
     "text": [
      "Sample Standard Error: 0.0044748347631585715\n",
      "The best estimate is: 0.023578177497374647\n",
      "Computed Test Statistics is 5.269061036955907\n",
      "Computed P-value is 1.3712336695640659e-07\n"
     ]
    }
   ],
   "source": [
    "twoTTest(\"Diabetes\", 1, 0)"
   ]
  },
  {
   "cell_type": "markdown",
   "metadata": {},
   "source": [
    "Yes, we are 99.9% confident that patients with no Diabetes are more likely not to show up to their appointments.\n",
    "### Is Alcoholism related to not showing up?"
   ]
  },
  {
   "cell_type": "code",
   "execution_count": 33,
   "metadata": {
    "tags": []
   },
   "outputs": [
    {
     "data": {
      "image/png": "[encoded data removed]",
      "text/plain": [
       "<Figure size 640x480 with 1 Axes>"
      ]
     },
     "metadata": {},
     "output_type": "display_data"
    }
   ],
   "source": [
    "plot_NoShowProb(cat_NoShowProb(\"Alcoholism\"))"
   ]
  },
  {
   "cell_type": "code",
   "execution_count": 34,
   "metadata": {},
   "outputs": [
    {
     "name": "stdout",
     "output_type": "stream",
     "text": [
      "Sample Standard Error: 0.007027482594698118\n",
      "The best estimate is: 0.00044171131466183566\n",
      "Computed Test Statistics is 0.06285484292697995\n",
      "Computed P-value is 0.9498820938241513\n"
     ]
    }
   ],
   "source": [
    "twoTTest(\"Alcoholism\", 1, 0)"
   ]
  },
  {
   "cell_type": "markdown",
   "metadata": {},
   "source": [
    "From the bar chart we can't see significant difference between Alcoholism and none for not showing up to their doctor appointments. Result from t-test supports this conclusion.\n",
    "### Is Handcap Level related to not showing up?"
   ]
  },
  {
   "cell_type": "code",
   "execution_count": 35,
   "metadata": {
    "tags": []
   },
   "outputs": [
    {
     "data": {
      "image/png": "[encoded data removed]",
      "text/plain": [
       "<Figure size 640x480 with 1 Axes>"
      ]
     },
     "metadata": {},
     "output_type": "display_data"
    }
   ],
   "source": [
    "plot_NoShowProb(cat_NoShowProb(\"Handcap\"))"
   ]
  },
  {
   "cell_type": "markdown",
   "metadata": {},
   "source": [
    "Yes. From the bar chart, the higher level the Handcap is, the more likely that patients are not to show up to their appointments, except for Handcap level \"0\".\n",
    "### Is SMS related to patients not showing up?"
   ]
  },
  {
   "cell_type": "code",
   "execution_count": 36,
   "metadata": {
    "tags": []
   },
   "outputs": [
    {
     "data": {
      "image/png": "[encoded data removed]",
      "text/plain": [
       "<Figure size 640x480 with 1 Axes>"
      ]
     },
     "metadata": {},
     "output_type": "display_data"
    }
   ],
   "source": [
    "plot_NoShowProb(cat_NoShowProb(\"SMS_received\"))"
   ]
  },
  {
   "cell_type": "code",
   "execution_count": 37,
   "metadata": {},
   "outputs": [
    {
     "name": "stdout",
     "output_type": "stream",
     "text": [
      "Sample Standard Error: 0.0028792650605962648\n",
      "The best estimate is: -0.10874895564093315\n",
      "Computed Test Statistics is -37.769692387547124\n",
      "Computed P-value is 0.0\n"
     ]
    }
   ],
   "source": [
    "twoTTest(\"SMS_received\", 1, 0)"
   ]
  },
  {
   "cell_type": "markdown",
   "metadata": {},
   "source": [
    "Yes. We are 99.9% confident that the two groups have different proportions of patients for not showing up to their appointment. From the bar chart, patients who received SMS do not show less probability of not showing up. On the contrast, they are more likely not to show up to their appointment."
   ]
  },
  {
   "cell_type": "markdown",
   "metadata": {},
   "source": [
    "<a id='conclusions'></a>\n",
    "## Conclusions\n",
    "- **No relationship**: `Gender`, `Neighbourhood`, and `Alcoholism` is not related to whether patients will not show up to their appointment. \n",
    "- For **further prediction**, we might consider patients whose `Age` are between 10-20 or above 90, `ScheduledDay` is more than 160 days ago, and those who had `Hipertension`, `Diabetes`, `Scholarship` in Bolsa Familia, higher `Handcap` level, also those who are `SMS_received`.\n",
    "\n",
    "**Additional Research**\n",
    "- We have too many different `Neighbourhood` values, as a result we cannot conclude some valuable insight from this variable. Further information about location, for example, city/state/state, or commuting time to hospitals, would be helpful.\n",
    "- `SMS_received` column implies contrary results to what we expected, that was SMS might help to prevent patients from not showing up to their appointment. So check the data resource of columns `SMS_received` and `No-show` is suggested.\n",
    "\n",
    "## Submitting your Project "
   ]
  },
  {
   "cell_type": "code",
   "execution_count": 38,
   "metadata": {
    "tags": []
   },
   "outputs": [
    {
     "name": "stdout",
     "output_type": "stream",
     "text": [
      "[NbConvertApp] Converting notebook Investigate_a_Dataset.ipynb to html\n",
      "[NbConvertApp] Writing 911917 bytes to Investigate_a_Dataset.html\n"
     ]
    }
   ],
   "source": [
    "# Running this cell will execute a bash command to convert this notebook to an .html file\n",
    "!python -m nbconvert --to html Investigate_a_Dataset.ipynb"
   ]
  },
  {
   "cell_type": "code",
   "execution_count": null,
   "metadata": {},
   "outputs": [],
   "source": []
  }
 ],
 "metadata": {
  "kernelspec": {
   "display_name": "Python 3 (ipykernel)",
   "language": "python",
   "name": "python3"
  },
  "language_info": {
   "codemirror_mode": {
    "name": "ipython",
    "version": 3
   },
   "file_extension": ".py",
   "mimetype": "text/x-python",
   "name": "python",
   "nbconvert_exporter": "python",
   "pygments_lexer": "ipython3",
   "version": "3.9.13"
  }
 },
 "nbformat": 4,
 "nbformat_minor": 4
}
